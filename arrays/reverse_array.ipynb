{
 "cells": [
  {
   "cell_type": "code",
   "execution_count": 1,
   "metadata": {},
   "outputs": [
    {
     "name": "stdout",
     "output_type": "stream",
     "text": [
      "Reversed array: [5, 4, 3, 2, 1]\n"
     ]
    }
   ],
   "source": [
    "def reverse_array(arr):\n",
    "    left, right = 0, len(arr) - 1\n",
    "    while left < right:\n",
    "        arr[left], arr[right] = arr[right], arr[left]  # Swap elements\n",
    "        left += 1\n",
    "        right -= 1\n",
    "\n",
    "# Example usage:\n",
    "arr = [1, 2, 3, 4, 5]\n",
    "reverse_array(arr)\n",
    "print(\"Reversed array:\", arr)\n"
   ]
  }
 ],
 "metadata": {
  "kernelspec": {
   "display_name": "Python 3",
   "language": "python",
   "name": "python3"
  },
  "language_info": {
   "codemirror_mode": {
    "name": "ipython",
    "version": 3
   },
   "file_extension": ".py",
   "mimetype": "text/x-python",
   "name": "python",
   "nbconvert_exporter": "python",
   "pygments_lexer": "ipython3",
   "version": "3.10.11"
  }
 },
 "nbformat": 4,
 "nbformat_minor": 2
}
