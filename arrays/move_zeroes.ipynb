{
 "cells": [
  {
   "cell_type": "code",
   "execution_count": 13,
   "metadata": {},
   "outputs": [
    {
     "data": {
      "image/png": "[encoded data removed]",
      "text/plain": [
       "<Figure size 640x480 with 1 Axes>"
      ]
     },
     "metadata": {},
     "output_type": "display_data"
    }
   ],
   "source": [
    "import matplotlib.pyplot as plt\n",
    "import matplotlib.animation as animation\n",
    "import numpy as np\n",
    "from IPython.display import display, clear_output\n",
    "\n",
    "def pushZerosToEnd(arr):\n",
    "    left = 0\n",
    "    steps = []\n",
    "    pointers = []\n",
    "    \n",
    "    for right in range(len(arr)):\n",
    "        steps.append(arr.copy())\n",
    "        pointers.append((left, right))\n",
    "        \n",
    "        if arr[left] == 0 and arr[right] != 0:\n",
    "            arr[left], arr[right] = arr[right], arr[left]\n",
    "            steps.append(arr.copy())\n",
    "            pointers.append((left, right))\n",
    "        \n",
    "        if arr[left] != 0:\n",
    "            left += 1\n",
    "    \n",
    "    steps.append(arr.copy())\n",
    "    pointers.append((left, len(arr) - 1))\n",
    "    \n",
    "    return arr, steps, pointers\n",
    "\n",
    "def visualize():\n",
    "    for frame in range(len(steps)):\n",
    "        clear_output(wait=True)\n",
    "        fig, ax = plt.subplots()\n",
    "        left, right = pointers[frame]\n",
    "        colors = ['red' if x == 0 else 'blue' for x in steps[frame]]\n",
    "        colors[left] = 'green'  # Mark left pointer\n",
    "        colors[right] = 'purple'  # Mark right pointer\n",
    "        \n",
    "        ax.bar(range(len(steps[frame])), steps[frame], color=colors)\n",
    "        ax.set_ylim(0, max(original_arr) + 1)\n",
    "        ax.set_title(f'Step {frame} | Left: {left}, Right: {right}')\n",
    "        display(fig)\n",
    "        plt.close(fig)\n",
    "        plt.pause(0.5)  # Add delay to slow down animation\n",
    "\n",
    "# Example input with 50 numbers\n",
    "np.random.seed(42)\n",
    "original_arr = np.random.choice([0, 1, 2, 3, 4, 5, 6, 7, 8, 9], size=50, replace=True).tolist()\n",
    "sorted_arr, steps, pointers = pushZerosToEnd(original_arr.copy())\n",
    "\n",
    "# Run visualization\n",
    "visualize()"
   ]
  }
 ],
 "metadata": {
  "kernelspec": {
   "display_name": "Python 3",
   "language": "python",
   "name": "python3"
  },
  "language_info": {
   "codemirror_mode": {
    "name": "ipython",
    "version": 3
   },
   "file_extension": ".py",
   "mimetype": "text/x-python",
   "name": "python",
   "nbconvert_exporter": "python",
   "pygments_lexer": "ipython3",
   "version": "3.10.11"
  }
 },
 "nbformat": 4,
 "nbformat_minor": 2
}
